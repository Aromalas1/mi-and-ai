{
 "cells": [
  {
   "cell_type": "code",
   "execution_count": 2,
   "id": "55a79f4a",
   "metadata": {},
   "outputs": [
    {
     "name": "stdout",
     "output_type": "stream",
     "text": [
      "10\n"
     ]
    }
   ],
   "source": [
    "scores=[7,8,9,10,11,11]\n",
    "sc_set=set(scores)\n",
    "top=max(sc_set)\n",
    "sc_set.remove(top)\n",
    "print(max(sc_set))"
   ]
  },
  {
   "cell_type": "code",
   "execution_count": 7,
   "id": "eb9bbfa6",
   "metadata": {},
   "outputs": [
    {
     "name": "stdout",
     "output_type": "stream",
     "text": [
      "{3}\n"
     ]
    }
   ],
   "source": [
    "set_1={3,4,5,6,7}\n",
    "set_2={8,9,2,1,3}\n",
    "if set_1.intersection(set_2):\n",
    "    print(set_1&set_2)\n",
    "else:\n",
    "    print(set_1.union(set_2))"
   ]
  },
  {
   "cell_type": "code",
   "execution_count": 17,
   "id": "af439ae0",
   "metadata": {},
   "outputs": [
    {
     "name": "stdout",
     "output_type": "stream",
     "text": [
      "Enter the name to be updateadJohn\n",
      "{'John': [88, 77, 99], 'Peter': [87, 55, 96], 'Ram': [58, 55, 43], 'Meena': [63, 79, 85]}\n"
     ]
    }
   ],
   "source": [
    "D={'John' :[25,32,43],'Peter':[87,55,96],'Ram':[58,55,43],'Meena':[63,79,85]}\n",
    "n=input('Enter the name to be updatead')\n",
    "if n in D:\n",
    "    D[n]=[88,77,99]\n",
    "    print(D)\n",
    "else:\n",
    "    print('Name not found')"
   ]
  },
  {
   "cell_type": "code",
   "execution_count": 18,
   "id": "f49ed13f",
   "metadata": {},
   "outputs": [
    {
     "name": "stdout",
     "output_type": "stream",
     "text": [
      "Elder= 48\n",
      "youngest= 23\n"
     ]
    }
   ],
   "source": [
    "age=[23,36,48]\n",
    "print('Elder=',max(age))\n",
    "print('youngest=',min(age))"
   ]
  },
  {
   "cell_type": "code",
   "execution_count": null,
   "id": "8fe0bcef",
   "metadata": {},
   "outputs": [],
   "source": []
  }
 ],
 "metadata": {
  "kernelspec": {
   "display_name": "Python 3 (ipykernel)",
   "language": "python",
   "name": "python3"
  },
  "language_info": {
   "codemirror_mode": {
    "name": "ipython",
    "version": 3
   },
   "file_extension": ".py",
   "mimetype": "text/x-python",
   "name": "python",
   "nbconvert_exporter": "python",
   "pygments_lexer": "ipython3",
   "version": "3.11.5"
  }
 },
 "nbformat": 4,
 "nbformat_minor": 5
}
